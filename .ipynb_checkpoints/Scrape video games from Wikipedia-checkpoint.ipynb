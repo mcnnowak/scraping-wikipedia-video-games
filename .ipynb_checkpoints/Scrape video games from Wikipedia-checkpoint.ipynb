{
 "cells": [
  {
   "cell_type": "markdown",
   "metadata": {},
   "source": [
    "# Overview\n",
    "\n",
    "This notebook scrapes information abou top selling video-games from wikipedia."
   ]
  },
  {
   "cell_type": "markdown",
   "metadata": {},
   "source": [
    "# Setup\n",
    "\n",
    "Import all the libraries that we're going to use and load the configuration file so that we can get "
   ]
  },
  {
   "cell_type": "code",
   "execution_count": 1,
   "metadata": {},
   "outputs": [],
   "source": [
    "import json, re, os\n",
    "from configparser import ConfigParser\n",
    "\n",
    "import requests\n",
    "import pandas as pd\n",
    "from bs4 import BeautifulSoup\n",
    "\n",
    "# load config\n",
    "config = ConfigParser()\n",
    "_ = config.read('config.ini')\n",
    "\n",
    "# create a directory for the data\n",
    "raw_data_dir = './data/raw'\n",
    "os.makedirs(raw_data_dir, exist_ok=True)"
   ]
  },
  {
   "cell_type": "markdown",
   "metadata": {},
   "source": [
    "# Load a wikipedia page as a BeautifulSoup object"
   ]
  },
  {
   "cell_type": "code",
   "execution_count": 2,
   "metadata": {},
   "outputs": [],
   "source": [
    "def replacer(character: str, replacement: str):\n",
    "    \"\"\"Returns a function which replaces character with replacement.\"\"\"\n",
    "    def _replace(content: str):\n",
    "        return content.replace(character, replacement)\n",
    "    return _replace\n",
    "\n",
    "def get_soup_from_uri(uri: str, formatter=None):\n",
    "    \"\"\"Loads a wikipedia page.\"\"\"\n",
    "    response = requests.get(uri)\n",
    "    response.raise_for_status()\n",
    "    \n",
    "    soup = BeautifulSoup(response.content)\n",
    "    return BeautifulSoup(soup.prettify(formatter=formatter)) if formatter else soup\n",
    "\n",
    "# load the pages\n",
    "game_soup = {}\n",
    "for page_title in config['Wikipedia Game Lists']:\n",
    "    game_soup[page_title] = get_soup_from_uri(\n",
    "        config.get('Wikipedia Game Lists', page_title),\n",
    "        formatter=replacer(u'\\xa0', ' ')\n",
    "    )\n",
    "    \n",
    "    with open(f'./data/raw/{page_title}.html', 'w+', encoding='utf-8') as file:\n",
    "        file.write(str(game_soup[page_title]))"
   ]
  },
  {
   "cell_type": "code",
   "execution_count": 3,
   "metadata": {},
   "outputs": [],
   "source": [
    "def soup_to_dict(soup: BeautifulSoup) -> dict:\n",
    "    \"\"\"Convert soup from the webpage into a usable dict containing game data.\"\"\"\n",
    "    table = soup.find(class_='wikitable sortable')\n",
    "    rows = table.select('tbody tr')\n",
    "\n",
    "    # find the headers and rows\n",
    "    headers = [str(h.get_text(strip=True)) for h in rows[0].find_all('th')]\n",
    "    game_rows = rows[1:]\n",
    "\n",
    "    # get all of the games from the rows\n",
    "    games = []\n",
    "    for index, row in enumerate(game_rows):\n",
    "        game = {}\n",
    "        for h, d in zip(headers, row.find_all('td')):\n",
    "            t = d.get_text(' ', strip=True)\n",
    "            if h == 'Total copies sold':\n",
    "                game[h] = ' '.join(t.split()[:2])\n",
    "            else:\n",
    "                game[h] = t\n",
    "        game['Id'] = index\n",
    "        games.append(game)\n",
    "    return games\n",
    "\n",
    "games = { k: soup_to_dict(v) for k, v in game_soup.items() }\n",
    "\n",
    "# check for non-blocking spaces\n",
    "for title, page_games in games.items():\n",
    "    for game in page_games:\n",
    "        for k, v in game.items():\n",
    "            if isinstance(k, str) and u'\\xa0' in k:\n",
    "                raise ValueError(f'Found in game with a non-breaking space (u\"\\xa0\"): {json.dumps(game)}')\n",
    "            if isinstance(v, str) and u'\\xa0' in v:\n",
    "                raise ValueError(f'Found in game with a non-breaking space (u\"\\xa0\"): {json.dumps(game)}')\n",
    "            \n",
    "# write to an intermediate json file\n",
    "for title, data in games.items():\n",
    "    with open(f'./data/{title}.json', 'w+') as games_json:\n",
    "        json.dump(data, games_json)"
   ]
  },
  {
   "cell_type": "code",
   "execution_count": 4,
   "metadata": {},
   "outputs": [],
   "source": [
    "# load the pages\n",
    "df_games = {}\n",
    "for page_title in config['Wikipedia Game Lists']:\n",
    "    # start processing the data using pandas\n",
    "    with open(f'./data/{page_title}.json', 'r') as games_json:\n",
    "        data = json.loads(games_json.read())\n",
    "        df_games[page_title] = pd.DataFrame.from_records(data, index='Id')"
   ]
  },
  {
   "cell_type": "code",
   "execution_count": 5,
   "metadata": {},
   "outputs": [],
   "source": [
    "DENOM_TO_INT = {\n",
    "    'thousand': 10**3,\n",
    "    'million': 10**6,\n",
    "    'billion': 10**9,\n",
    "    'trillion': 10**12,\n",
    "}\n",
    "\n",
    "def convert_to_int(text: str) -> int:\n",
    "    try:\n",
    "        n, denom = text.replace(',', '').split(' ')[:2]\n",
    "        return int(float(n) * DENOM_TO_INT[denom])\n",
    "    except (ValueError, KeyError):\n",
    "        print(f'Unable to convert CopiesSold value \"{text}\" to int.')\n",
    "    return None\n",
    "\n",
    "def remove_sic(text: str) -> str:\n",
    "    return re.sub(r'(?is)\\[.*\\]', '', text)"
   ]
  },
  {
   "cell_type": "code",
   "execution_count": 6,
   "metadata": {},
   "outputs": [],
   "source": [
    "# clean up df_games_bs\n",
    "df_games_bs = df_games['best_selling']\n",
    "df_games_mp = df_games['most_played']\n",
    "\n",
    "df_games_bs = df_games_bs.rename(columns={\n",
    "    'Game': 'Name',\n",
    "    'Total copies sold': 'CopiesSold',\n",
    "    'Release date': 'Released'\n",
    "})\n",
    "\n",
    "df_games_mp = df_games_mp.rename(columns={\n",
    "    'Game': 'Name',\n",
    "    'Release date': 'Released',\n",
    "    'Number': 'ActivePlayers',\n",
    "    'Publisher(s)': 'Publisher'\n",
    "})\n",
    "\n",
    "if df_games_bs.CopiesSold.dtypes != 'int64':\n",
    "    df_games_bs.CopiesSold = df_games_bs.CopiesSold.apply(convert_to_int)\n",
    "    \n",
    "if df_games_mp.ActivePlayers.dtypes != 'int64':\n",
    "    df_games_mp.ActivePlayers = df_games_mp.ActivePlayers.apply(convert_to_int)\n",
    "    \n",
    "if df_games_bs.Released.dtypes != 'datetime64[ns]':\n",
    "    df_games_bs.Released = pd.to_datetime(df_games_bs.Released.apply(remove_sic))\n",
    "    \n",
    "if df_games_mp.Released.dtypes != 'datetime64[ns]':\n",
    "    df_games_mp.Released = pd.to_datetime(df_games_mp.Released.apply(remove_sic))\n",
    "\n",
    "df_games_mp.Publisher = df_games_mp.Publisher.apply(remove_sic)"
   ]
  },
  {
   "cell_type": "code",
   "execution_count": 7,
   "metadata": {},
   "outputs": [],
   "source": [
    "# write to the final CSV file\n",
    "df_games_bs.to_csv(f'./data/best_selling.csv', index=False)\n",
    "df_games_mp.to_csv(f'./data/most_played.csv', index=False)"
   ]
  },
  {
   "cell_type": "code",
   "execution_count": 8,
   "metadata": {
    "scrolled": false
   },
   "outputs": [
    {
     "data": {
      "image/png": "[encoded data removed]",
      "text/plain": [
       "<Figure size 432x288 with 1 Axes>"
      ]
     },
     "metadata": {
      "needs_background": "light"
     },
     "output_type": "display_data"
    }
   ],
   "source": [
    "# explore\n",
    "from matplotlib import pyplot as plt\n",
    "import matplotlib.ticker as ticker\n",
    "\n",
    "fig, ax = plt.subplots()\n",
    "\n",
    "# labels\n",
    "plt.title('Best Selling Games by Developer')\n",
    "plt.xlabel('Developers')\n",
    "plt.ylabel('Copies Sold (MM)')\n",
    "\n",
    "# axis\n",
    "plt.xticks(rotation='vertical')\n",
    "\n",
    "formatter = ticker.FormatStrFormatter('$%.0f')\n",
    "ax.yaxis.set_major_formatter(formatter)\n",
    "\n",
    "data = df_games_bs.groupby(df_games_bs.Developer).mean().sort_values(by='CopiesSold')[-10:]\n",
    "data = data.assign(Millions=lambda df: df.CopiesSold // 10 ** 6)\n",
    "\n",
    "# graph\n",
    "_ = plt.plot(data[['Millions']])"
   ]
  },
  {
   "cell_type": "code",
   "execution_count": 10,
   "metadata": {},
   "outputs": [
    {
     "data": {
      "image/png": "[encoded data removed]",
      "text/plain": [
       "<Figure size 432x288 with 1 Axes>"
      ]
     },
     "metadata": {
      "needs_background": "light"
     },
     "output_type": "display_data"
    }
   ],
   "source": [
    "# explore\n",
    "from matplotlib import pyplot as plt\n",
    "import matplotlib.ticker as ticker\n",
    "\n",
    "fig, ax = plt.subplots()\n",
    "\n",
    "# labels\n",
    "plt.title('Most Played Games by Publisher')\n",
    "plt.xlabel('Publisher')\n",
    "plt.ylabel('Players (millions)')\n",
    "\n",
    "# axis\n",
    "plt.xticks(rotation='vertical')\n",
    "\n",
    "formatter = ticker.FormatStrFormatter('%.0f')\n",
    "ax.yaxis.set_major_formatter(formatter)\n",
    "\n",
    "data = df_games_mp.groupby(df_games_mp.Publisher).mean().sort_values(by='ActivePlayers')[-10:]\n",
    "data = data.assign(Millions=lambda df: df.ActivePlayers // 10 ** 6)\n",
    "\n",
    "# graph\n",
    "_ = plt.plot(data[['Millions']])"
   ]
  }
 ],
 "metadata": {
  "kernelspec": {
   "display_name": "Python 3",
   "language": "python",
   "name": "python3"
  },
  "language_info": {
   "codemirror_mode": {
    "name": "ipython",
    "version": 3
   },
   "file_extension": ".py",
   "mimetype": "text/x-python",
   "name": "python",
   "nbconvert_exporter": "python",
   "pygments_lexer": "ipython3",
   "version": "3.8.5"
  }
 },
 "nbformat": 4,
 "nbformat_minor": 4
}
